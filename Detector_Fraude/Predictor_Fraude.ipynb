{
  "nbformat": 4,
  "nbformat_minor": 0,
  "metadata": {
    "colab": {
      "provenance": []
    },
    "kernelspec": {
      "name": "python3",
      "display_name": "Python 3"
    },
    "language_info": {
      "name": "python"
    }
  },
  "cells": [
    {
      "cell_type": "markdown",
      "source": [
        "**Objetivo del proyecto**: Desarrollar un modelo predictivo de clasificación binaria que permita identificar transacciones financieras potencialmente fraudulentas, utilizando técnicas de machine learning supervisado. El propósito es optimizar la detección de fraude en medios de pago digitales."
      ],
      "metadata": {
        "id": "-4DIfdjNcDMo"
      }
    },
    {
      "cell_type": "code",
      "execution_count": 1,
      "metadata": {
        "id": "imlYZAcTbZmj"
      },
      "outputs": [],
      "source": [
        "import pandas as pd\n",
        "df = pd.read_csv(\"/content/creditcard.csv\")\n"
      ]
    },
    {
      "cell_type": "markdown",
      "source": [
        "# **EDA**:"
      ],
      "metadata": {
        "id": "v9ubZSxkgfp4"
      }
    },
    {
      "cell_type": "code",
      "source": [
        "df.head(10)"
      ],
      "metadata": {
        "colab": {
          "base_uri": "https://localhost:8080/",
          "height": 412
        },
        "id": "M1B8Pu5pbuYD",
        "outputId": "f25da03c-8b5b-4fb6-f08b-5da1d07a13df"
      },
      "execution_count": 2,
      "outputs": [
        {
          "output_type": "execute_result",
          "data": {
            "text/plain": [
              "   Time        V1        V2        V3        V4        V5        V6        V7  \\\n",
              "0     0 -1.359807 -0.072781  2.536347  1.378155 -0.338321  0.462388  0.239599   \n",
              "1     0  1.191857  0.266151  0.166480  0.448154  0.060018 -0.082361 -0.078803   \n",
              "2     1 -1.358354 -1.340163  1.773209  0.379780 -0.503198  1.800499  0.791461   \n",
              "3     1 -0.966272 -0.185226  1.792993 -0.863291 -0.010309  1.247203  0.237609   \n",
              "4     2 -1.158233  0.877737  1.548718  0.403034 -0.407193  0.095921  0.592941   \n",
              "5     2 -0.425966  0.960523  1.141109 -0.168252  0.420987 -0.029728  0.476201   \n",
              "6     4  1.229658  0.141004  0.045371  1.202613  0.191881  0.272708 -0.005159   \n",
              "7     7 -0.644269  1.417964  1.074380 -0.492199  0.948934  0.428118  1.120631   \n",
              "8     7 -0.894286  0.286157 -0.113192 -0.271526  2.669599  3.721818  0.370145   \n",
              "9     9 -0.338262  1.119593  1.044367 -0.222187  0.499361 -0.246761  0.651583   \n",
              "\n",
              "         V8        V9  ...       V21       V22       V23       V24       V25  \\\n",
              "0  0.098698  0.363787  ... -0.018307  0.277838 -0.110474  0.066928  0.128539   \n",
              "1  0.085102 -0.255425  ... -0.225775 -0.638672  0.101288 -0.339846  0.167170   \n",
              "2  0.247676 -1.514654  ...  0.247998  0.771679  0.909412 -0.689281 -0.327642   \n",
              "3  0.377436 -1.387024  ... -0.108300  0.005274 -0.190321 -1.175575  0.647376   \n",
              "4 -0.270533  0.817739  ... -0.009431  0.798278 -0.137458  0.141267 -0.206010   \n",
              "5  0.260314 -0.568671  ... -0.208254 -0.559825 -0.026398 -0.371427 -0.232794   \n",
              "6  0.081213  0.464960  ... -0.167716 -0.270710 -0.154104 -0.780055  0.750137   \n",
              "7 -3.807864  0.615375  ...  1.943465 -1.015455  0.057504 -0.649709 -0.415267   \n",
              "8  0.851084 -0.392048  ... -0.073425 -0.268092 -0.204233  1.011592  0.373205   \n",
              "9  0.069539 -0.736727  ... -0.246914 -0.633753 -0.120794 -0.385050 -0.069733   \n",
              "\n",
              "        V26       V27       V28  Amount  Class  \n",
              "0 -0.189115  0.133558 -0.021053  149.62    0.0  \n",
              "1  0.125895 -0.008983  0.014724    2.69    0.0  \n",
              "2 -0.139097 -0.055353 -0.059752  378.66    0.0  \n",
              "3 -0.221929  0.062723  0.061458  123.50    0.0  \n",
              "4  0.502292  0.219422  0.215153   69.99    0.0  \n",
              "5  0.105915  0.253844  0.081080    3.67    0.0  \n",
              "6 -0.257237  0.034507  0.005168    4.99    0.0  \n",
              "7 -0.051634 -1.206921 -1.085339   40.80    0.0  \n",
              "8 -0.384157  0.011747  0.142404   93.20    0.0  \n",
              "9  0.094199  0.246219  0.083076    3.68    0.0  \n",
              "\n",
              "[10 rows x 31 columns]"
            ],
            "text/html": [
              "\n",
              "  <div id=\"df-eb5e4499-b335-45b6-946f-65562fa16167\" class=\"colab-df-container\">\n",
              "    <div>\n",
              "<style scoped>\n",
              "    .dataframe tbody tr th:only-of-type {\n",
              "        vertical-align: middle;\n",
              "    }\n",
              "\n",
              "    .dataframe tbody tr th {\n",
              "        vertical-align: top;\n",
              "    }\n",
              "\n",
              "    .dataframe thead th {\n",
              "        text-align: right;\n",
              "    }\n",
              "</style>\n",
              "<table border=\"1\" class=\"dataframe\">\n",
              "  <thead>\n",
              "    <tr style=\"text-align: right;\">\n",
              "      <th></th>\n",
              "      <th>Time</th>\n",
              "      <th>V1</th>\n",
              "      <th>V2</th>\n",
              "      <th>V3</th>\n",
              "      <th>V4</th>\n",
              "      <th>V5</th>\n",
              "      <th>V6</th>\n",
              "      <th>V7</th>\n",
              "      <th>V8</th>\n",
              "      <th>V9</th>\n",
              "      <th>...</th>\n",
              "      <th>V21</th>\n",
              "      <th>V22</th>\n",
              "      <th>V23</th>\n",
              "      <th>V24</th>\n",
              "      <th>V25</th>\n",
              "      <th>V26</th>\n",
              "      <th>V27</th>\n",
              "      <th>V28</th>\n",
              "      <th>Amount</th>\n",
              "      <th>Class</th>\n",
              "    </tr>\n",
              "  </thead>\n",
              "  <tbody>\n",
              "    <tr>\n",
              "      <th>0</th>\n",
              "      <td>0</td>\n",
              "      <td>-1.359807</td>\n",
              "      <td>-0.072781</td>\n",
              "      <td>2.536347</td>\n",
              "      <td>1.378155</td>\n",
              "      <td>-0.338321</td>\n",
              "      <td>0.462388</td>\n",
              "      <td>0.239599</td>\n",
              "      <td>0.098698</td>\n",
              "      <td>0.363787</td>\n",
              "      <td>...</td>\n",
              "      <td>-0.018307</td>\n",
              "      <td>0.277838</td>\n",
              "      <td>-0.110474</td>\n",
              "      <td>0.066928</td>\n",
              "      <td>0.128539</td>\n",
              "      <td>-0.189115</td>\n",
              "      <td>0.133558</td>\n",
              "      <td>-0.021053</td>\n",
              "      <td>149.62</td>\n",
              "      <td>0.0</td>\n",
              "    </tr>\n",
              "    <tr>\n",
              "      <th>1</th>\n",
              "      <td>0</td>\n",
              "      <td>1.191857</td>\n",
              "      <td>0.266151</td>\n",
              "      <td>0.166480</td>\n",
              "      <td>0.448154</td>\n",
              "      <td>0.060018</td>\n",
              "      <td>-0.082361</td>\n",
              "      <td>-0.078803</td>\n",
              "      <td>0.085102</td>\n",
              "      <td>-0.255425</td>\n",
              "      <td>...</td>\n",
              "      <td>-0.225775</td>\n",
              "      <td>-0.638672</td>\n",
              "      <td>0.101288</td>\n",
              "      <td>-0.339846</td>\n",
              "      <td>0.167170</td>\n",
              "      <td>0.125895</td>\n",
              "      <td>-0.008983</td>\n",
              "      <td>0.014724</td>\n",
              "      <td>2.69</td>\n",
              "      <td>0.0</td>\n",
              "    </tr>\n",
              "    <tr>\n",
              "      <th>2</th>\n",
              "      <td>1</td>\n",
              "      <td>-1.358354</td>\n",
              "      <td>-1.340163</td>\n",
              "      <td>1.773209</td>\n",
              "      <td>0.379780</td>\n",
              "      <td>-0.503198</td>\n",
              "      <td>1.800499</td>\n",
              "      <td>0.791461</td>\n",
              "      <td>0.247676</td>\n",
              "      <td>-1.514654</td>\n",
              "      <td>...</td>\n",
              "      <td>0.247998</td>\n",
              "      <td>0.771679</td>\n",
              "      <td>0.909412</td>\n",
              "      <td>-0.689281</td>\n",
              "      <td>-0.327642</td>\n",
              "      <td>-0.139097</td>\n",
              "      <td>-0.055353</td>\n",
              "      <td>-0.059752</td>\n",
              "      <td>378.66</td>\n",
              "      <td>0.0</td>\n",
              "    </tr>\n",
              "    <tr>\n",
              "      <th>3</th>\n",
              "      <td>1</td>\n",
              "      <td>-0.966272</td>\n",
              "      <td>-0.185226</td>\n",
              "      <td>1.792993</td>\n",
              "      <td>-0.863291</td>\n",
              "      <td>-0.010309</td>\n",
              "      <td>1.247203</td>\n",
              "      <td>0.237609</td>\n",
              "      <td>0.377436</td>\n",
              "      <td>-1.387024</td>\n",
              "      <td>...</td>\n",
              "      <td>-0.108300</td>\n",
              "      <td>0.005274</td>\n",
              "      <td>-0.190321</td>\n",
              "      <td>-1.175575</td>\n",
              "      <td>0.647376</td>\n",
              "      <td>-0.221929</td>\n",
              "      <td>0.062723</td>\n",
              "      <td>0.061458</td>\n",
              "      <td>123.50</td>\n",
              "      <td>0.0</td>\n",
              "    </tr>\n",
              "    <tr>\n",
              "      <th>4</th>\n",
              "      <td>2</td>\n",
              "      <td>-1.158233</td>\n",
              "      <td>0.877737</td>\n",
              "      <td>1.548718</td>\n",
              "      <td>0.403034</td>\n",
              "      <td>-0.407193</td>\n",
              "      <td>0.095921</td>\n",
              "      <td>0.592941</td>\n",
              "      <td>-0.270533</td>\n",
              "      <td>0.817739</td>\n",
              "      <td>...</td>\n",
              "      <td>-0.009431</td>\n",
              "      <td>0.798278</td>\n",
              "      <td>-0.137458</td>\n",
              "      <td>0.141267</td>\n",
              "      <td>-0.206010</td>\n",
              "      <td>0.502292</td>\n",
              "      <td>0.219422</td>\n",
              "      <td>0.215153</td>\n",
              "      <td>69.99</td>\n",
              "      <td>0.0</td>\n",
              "    </tr>\n",
              "    <tr>\n",
              "      <th>5</th>\n",
              "      <td>2</td>\n",
              "      <td>-0.425966</td>\n",
              "      <td>0.960523</td>\n",
              "      <td>1.141109</td>\n",
              "      <td>-0.168252</td>\n",
              "      <td>0.420987</td>\n",
              "      <td>-0.029728</td>\n",
              "      <td>0.476201</td>\n",
              "      <td>0.260314</td>\n",
              "      <td>-0.568671</td>\n",
              "      <td>...</td>\n",
              "      <td>-0.208254</td>\n",
              "      <td>-0.559825</td>\n",
              "      <td>-0.026398</td>\n",
              "      <td>-0.371427</td>\n",
              "      <td>-0.232794</td>\n",
              "      <td>0.105915</td>\n",
              "      <td>0.253844</td>\n",
              "      <td>0.081080</td>\n",
              "      <td>3.67</td>\n",
              "      <td>0.0</td>\n",
              "    </tr>\n",
              "    <tr>\n",
              "      <th>6</th>\n",
              "      <td>4</td>\n",
              "      <td>1.229658</td>\n",
              "      <td>0.141004</td>\n",
              "      <td>0.045371</td>\n",
              "      <td>1.202613</td>\n",
              "      <td>0.191881</td>\n",
              "      <td>0.272708</td>\n",
              "      <td>-0.005159</td>\n",
              "      <td>0.081213</td>\n",
              "      <td>0.464960</td>\n",
              "      <td>...</td>\n",
              "      <td>-0.167716</td>\n",
              "      <td>-0.270710</td>\n",
              "      <td>-0.154104</td>\n",
              "      <td>-0.780055</td>\n",
              "      <td>0.750137</td>\n",
              "      <td>-0.257237</td>\n",
              "      <td>0.034507</td>\n",
              "      <td>0.005168</td>\n",
              "      <td>4.99</td>\n",
              "      <td>0.0</td>\n",
              "    </tr>\n",
              "    <tr>\n",
              "      <th>7</th>\n",
              "      <td>7</td>\n",
              "      <td>-0.644269</td>\n",
              "      <td>1.417964</td>\n",
              "      <td>1.074380</td>\n",
              "      <td>-0.492199</td>\n",
              "      <td>0.948934</td>\n",
              "      <td>0.428118</td>\n",
              "      <td>1.120631</td>\n",
              "      <td>-3.807864</td>\n",
              "      <td>0.615375</td>\n",
              "      <td>...</td>\n",
              "      <td>1.943465</td>\n",
              "      <td>-1.015455</td>\n",
              "      <td>0.057504</td>\n",
              "      <td>-0.649709</td>\n",
              "      <td>-0.415267</td>\n",
              "      <td>-0.051634</td>\n",
              "      <td>-1.206921</td>\n",
              "      <td>-1.085339</td>\n",
              "      <td>40.80</td>\n",
              "      <td>0.0</td>\n",
              "    </tr>\n",
              "    <tr>\n",
              "      <th>8</th>\n",
              "      <td>7</td>\n",
              "      <td>-0.894286</td>\n",
              "      <td>0.286157</td>\n",
              "      <td>-0.113192</td>\n",
              "      <td>-0.271526</td>\n",
              "      <td>2.669599</td>\n",
              "      <td>3.721818</td>\n",
              "      <td>0.370145</td>\n",
              "      <td>0.851084</td>\n",
              "      <td>-0.392048</td>\n",
              "      <td>...</td>\n",
              "      <td>-0.073425</td>\n",
              "      <td>-0.268092</td>\n",
              "      <td>-0.204233</td>\n",
              "      <td>1.011592</td>\n",
              "      <td>0.373205</td>\n",
              "      <td>-0.384157</td>\n",
              "      <td>0.011747</td>\n",
              "      <td>0.142404</td>\n",
              "      <td>93.20</td>\n",
              "      <td>0.0</td>\n",
              "    </tr>\n",
              "    <tr>\n",
              "      <th>9</th>\n",
              "      <td>9</td>\n",
              "      <td>-0.338262</td>\n",
              "      <td>1.119593</td>\n",
              "      <td>1.044367</td>\n",
              "      <td>-0.222187</td>\n",
              "      <td>0.499361</td>\n",
              "      <td>-0.246761</td>\n",
              "      <td>0.651583</td>\n",
              "      <td>0.069539</td>\n",
              "      <td>-0.736727</td>\n",
              "      <td>...</td>\n",
              "      <td>-0.246914</td>\n",
              "      <td>-0.633753</td>\n",
              "      <td>-0.120794</td>\n",
              "      <td>-0.385050</td>\n",
              "      <td>-0.069733</td>\n",
              "      <td>0.094199</td>\n",
              "      <td>0.246219</td>\n",
              "      <td>0.083076</td>\n",
              "      <td>3.68</td>\n",
              "      <td>0.0</td>\n",
              "    </tr>\n",
              "  </tbody>\n",
              "</table>\n",
              "<p>10 rows × 31 columns</p>\n",
              "</div>\n",
              "    <div class=\"colab-df-buttons\">\n",
              "\n",
              "  <div class=\"colab-df-container\">\n",
              "    <button class=\"colab-df-convert\" onclick=\"convertToInteractive('df-eb5e4499-b335-45b6-946f-65562fa16167')\"\n",
              "            title=\"Convert this dataframe to an interactive table.\"\n",
              "            style=\"display:none;\">\n",
              "\n",
              "  <svg xmlns=\"http://www.w3.org/2000/svg\" height=\"24px\" viewBox=\"0 -960 960 960\">\n",
              "    <path d=\"M120-120v-720h720v720H120Zm60-500h600v-160H180v160Zm220 220h160v-160H400v160Zm0 220h160v-160H400v160ZM180-400h160v-160H180v160Zm440 0h160v-160H620v160ZM180-180h160v-160H180v160Zm440 0h160v-160H620v160Z\"/>\n",
              "  </svg>\n",
              "    </button>\n",
              "\n",
              "  <style>\n",
              "    .colab-df-container {\n",
              "      display:flex;\n",
              "      gap: 12px;\n",
              "    }\n",
              "\n",
              "    .colab-df-convert {\n",
              "      background-color: #E8F0FE;\n",
              "      border: none;\n",
              "      border-radius: 50%;\n",
              "      cursor: pointer;\n",
              "      display: none;\n",
              "      fill: #1967D2;\n",
              "      height: 32px;\n",
              "      padding: 0 0 0 0;\n",
              "      width: 32px;\n",
              "    }\n",
              "\n",
              "    .colab-df-convert:hover {\n",
              "      background-color: #E2EBFA;\n",
              "      box-shadow: 0px 1px 2px rgba(60, 64, 67, 0.3), 0px 1px 3px 1px rgba(60, 64, 67, 0.15);\n",
              "      fill: #174EA6;\n",
              "    }\n",
              "\n",
              "    .colab-df-buttons div {\n",
              "      margin-bottom: 4px;\n",
              "    }\n",
              "\n",
              "    [theme=dark] .colab-df-convert {\n",
              "      background-color: #3B4455;\n",
              "      fill: #D2E3FC;\n",
              "    }\n",
              "\n",
              "    [theme=dark] .colab-df-convert:hover {\n",
              "      background-color: #434B5C;\n",
              "      box-shadow: 0px 1px 3px 1px rgba(0, 0, 0, 0.15);\n",
              "      filter: drop-shadow(0px 1px 2px rgba(0, 0, 0, 0.3));\n",
              "      fill: #FFFFFF;\n",
              "    }\n",
              "  </style>\n",
              "\n",
              "    <script>\n",
              "      const buttonEl =\n",
              "        document.querySelector('#df-eb5e4499-b335-45b6-946f-65562fa16167 button.colab-df-convert');\n",
              "      buttonEl.style.display =\n",
              "        google.colab.kernel.accessAllowed ? 'block' : 'none';\n",
              "\n",
              "      async function convertToInteractive(key) {\n",
              "        const element = document.querySelector('#df-eb5e4499-b335-45b6-946f-65562fa16167');\n",
              "        const dataTable =\n",
              "          await google.colab.kernel.invokeFunction('convertToInteractive',\n",
              "                                                    [key], {});\n",
              "        if (!dataTable) return;\n",
              "\n",
              "        const docLinkHtml = 'Like what you see? Visit the ' +\n",
              "          '<a target=\"_blank\" href=https://colab.research.google.com/notebooks/data_table.ipynb>data table notebook</a>'\n",
              "          + ' to learn more about interactive tables.';\n",
              "        element.innerHTML = '';\n",
              "        dataTable['output_type'] = 'display_data';\n",
              "        await google.colab.output.renderOutput(dataTable, element);\n",
              "        const docLink = document.createElement('div');\n",
              "        docLink.innerHTML = docLinkHtml;\n",
              "        element.appendChild(docLink);\n",
              "      }\n",
              "    </script>\n",
              "  </div>\n",
              "\n",
              "\n",
              "    <div id=\"df-bf39fedc-c63c-4c01-aa77-b3e8e798c2fd\">\n",
              "      <button class=\"colab-df-quickchart\" onclick=\"quickchart('df-bf39fedc-c63c-4c01-aa77-b3e8e798c2fd')\"\n",
              "                title=\"Suggest charts\"\n",
              "                style=\"display:none;\">\n",
              "\n",
              "<svg xmlns=\"http://www.w3.org/2000/svg\" height=\"24px\"viewBox=\"0 0 24 24\"\n",
              "     width=\"24px\">\n",
              "    <g>\n",
              "        <path d=\"M19 3H5c-1.1 0-2 .9-2 2v14c0 1.1.9 2 2 2h14c1.1 0 2-.9 2-2V5c0-1.1-.9-2-2-2zM9 17H7v-7h2v7zm4 0h-2V7h2v10zm4 0h-2v-4h2v4z\"/>\n",
              "    </g>\n",
              "</svg>\n",
              "      </button>\n",
              "\n",
              "<style>\n",
              "  .colab-df-quickchart {\n",
              "      --bg-color: #E8F0FE;\n",
              "      --fill-color: #1967D2;\n",
              "      --hover-bg-color: #E2EBFA;\n",
              "      --hover-fill-color: #174EA6;\n",
              "      --disabled-fill-color: #AAA;\n",
              "      --disabled-bg-color: #DDD;\n",
              "  }\n",
              "\n",
              "  [theme=dark] .colab-df-quickchart {\n",
              "      --bg-color: #3B4455;\n",
              "      --fill-color: #D2E3FC;\n",
              "      --hover-bg-color: #434B5C;\n",
              "      --hover-fill-color: #FFFFFF;\n",
              "      --disabled-bg-color: #3B4455;\n",
              "      --disabled-fill-color: #666;\n",
              "  }\n",
              "\n",
              "  .colab-df-quickchart {\n",
              "    background-color: var(--bg-color);\n",
              "    border: none;\n",
              "    border-radius: 50%;\n",
              "    cursor: pointer;\n",
              "    display: none;\n",
              "    fill: var(--fill-color);\n",
              "    height: 32px;\n",
              "    padding: 0;\n",
              "    width: 32px;\n",
              "  }\n",
              "\n",
              "  .colab-df-quickchart:hover {\n",
              "    background-color: var(--hover-bg-color);\n",
              "    box-shadow: 0 1px 2px rgba(60, 64, 67, 0.3), 0 1px 3px 1px rgba(60, 64, 67, 0.15);\n",
              "    fill: var(--button-hover-fill-color);\n",
              "  }\n",
              "\n",
              "  .colab-df-quickchart-complete:disabled,\n",
              "  .colab-df-quickchart-complete:disabled:hover {\n",
              "    background-color: var(--disabled-bg-color);\n",
              "    fill: var(--disabled-fill-color);\n",
              "    box-shadow: none;\n",
              "  }\n",
              "\n",
              "  .colab-df-spinner {\n",
              "    border: 2px solid var(--fill-color);\n",
              "    border-color: transparent;\n",
              "    border-bottom-color: var(--fill-color);\n",
              "    animation:\n",
              "      spin 1s steps(1) infinite;\n",
              "  }\n",
              "\n",
              "  @keyframes spin {\n",
              "    0% {\n",
              "      border-color: transparent;\n",
              "      border-bottom-color: var(--fill-color);\n",
              "      border-left-color: var(--fill-color);\n",
              "    }\n",
              "    20% {\n",
              "      border-color: transparent;\n",
              "      border-left-color: var(--fill-color);\n",
              "      border-top-color: var(--fill-color);\n",
              "    }\n",
              "    30% {\n",
              "      border-color: transparent;\n",
              "      border-left-color: var(--fill-color);\n",
              "      border-top-color: var(--fill-color);\n",
              "      border-right-color: var(--fill-color);\n",
              "    }\n",
              "    40% {\n",
              "      border-color: transparent;\n",
              "      border-right-color: var(--fill-color);\n",
              "      border-top-color: var(--fill-color);\n",
              "    }\n",
              "    60% {\n",
              "      border-color: transparent;\n",
              "      border-right-color: var(--fill-color);\n",
              "    }\n",
              "    80% {\n",
              "      border-color: transparent;\n",
              "      border-right-color: var(--fill-color);\n",
              "      border-bottom-color: var(--fill-color);\n",
              "    }\n",
              "    90% {\n",
              "      border-color: transparent;\n",
              "      border-bottom-color: var(--fill-color);\n",
              "    }\n",
              "  }\n",
              "</style>\n",
              "\n",
              "      <script>\n",
              "        async function quickchart(key) {\n",
              "          const quickchartButtonEl =\n",
              "            document.querySelector('#' + key + ' button');\n",
              "          quickchartButtonEl.disabled = true;  // To prevent multiple clicks.\n",
              "          quickchartButtonEl.classList.add('colab-df-spinner');\n",
              "          try {\n",
              "            const charts = await google.colab.kernel.invokeFunction(\n",
              "                'suggestCharts', [key], {});\n",
              "          } catch (error) {\n",
              "            console.error('Error during call to suggestCharts:', error);\n",
              "          }\n",
              "          quickchartButtonEl.classList.remove('colab-df-spinner');\n",
              "          quickchartButtonEl.classList.add('colab-df-quickchart-complete');\n",
              "        }\n",
              "        (() => {\n",
              "          let quickchartButtonEl =\n",
              "            document.querySelector('#df-bf39fedc-c63c-4c01-aa77-b3e8e798c2fd button');\n",
              "          quickchartButtonEl.style.display =\n",
              "            google.colab.kernel.accessAllowed ? 'block' : 'none';\n",
              "        })();\n",
              "      </script>\n",
              "    </div>\n",
              "\n",
              "    </div>\n",
              "  </div>\n"
            ],
            "application/vnd.google.colaboratory.intrinsic+json": {
              "type": "dataframe",
              "variable_name": "df"
            }
          },
          "metadata": {},
          "execution_count": 2
        }
      ]
    },
    {
      "cell_type": "code",
      "source": [
        "df.columns"
      ],
      "metadata": {
        "colab": {
          "base_uri": "https://localhost:8080/"
        },
        "id": "InYgWpg-cTBy",
        "outputId": "4e8ad2ea-2395-42b0-de11-22f31666bfb4"
      },
      "execution_count": 3,
      "outputs": [
        {
          "output_type": "execute_result",
          "data": {
            "text/plain": [
              "Index(['Time', 'V1', 'V2', 'V3', 'V4', 'V5', 'V6', 'V7', 'V8', 'V9', 'V10',\n",
              "       'V11', 'V12', 'V13', 'V14', 'V15', 'V16', 'V17', 'V18', 'V19', 'V20',\n",
              "       'V21', 'V22', 'V23', 'V24', 'V25', 'V26', 'V27', 'V28', 'Amount',\n",
              "       'Class'],\n",
              "      dtype='object')"
            ]
          },
          "metadata": {},
          "execution_count": 3
        }
      ]
    },
    {
      "cell_type": "code",
      "source": [
        "df.info()"
      ],
      "metadata": {
        "colab": {
          "base_uri": "https://localhost:8080/"
        },
        "id": "n_AgH-YOck95",
        "outputId": "0f4ec651-a970-43ee-9b8b-814537bca239"
      },
      "execution_count": 4,
      "outputs": [
        {
          "output_type": "stream",
          "name": "stdout",
          "text": [
            "<class 'pandas.core.frame.DataFrame'>\n",
            "RangeIndex: 109025 entries, 0 to 109024\n",
            "Data columns (total 31 columns):\n",
            " #   Column  Non-Null Count   Dtype  \n",
            "---  ------  --------------   -----  \n",
            " 0   Time    109025 non-null  int64  \n",
            " 1   V1      109025 non-null  float64\n",
            " 2   V2      109025 non-null  float64\n",
            " 3   V3      109025 non-null  float64\n",
            " 4   V4      109025 non-null  float64\n",
            " 5   V5      109025 non-null  float64\n",
            " 6   V6      109025 non-null  float64\n",
            " 7   V7      109025 non-null  float64\n",
            " 8   V8      109025 non-null  float64\n",
            " 9   V9      109025 non-null  float64\n",
            " 10  V10     109025 non-null  float64\n",
            " 11  V11     109025 non-null  float64\n",
            " 12  V12     109025 non-null  float64\n",
            " 13  V13     109025 non-null  float64\n",
            " 14  V14     109025 non-null  float64\n",
            " 15  V15     109025 non-null  float64\n",
            " 16  V16     109025 non-null  float64\n",
            " 17  V17     109025 non-null  float64\n",
            " 18  V18     109025 non-null  float64\n",
            " 19  V19     109025 non-null  float64\n",
            " 20  V20     109025 non-null  float64\n",
            " 21  V21     109024 non-null  float64\n",
            " 22  V22     109024 non-null  float64\n",
            " 23  V23     109024 non-null  float64\n",
            " 24  V24     109024 non-null  float64\n",
            " 25  V25     109024 non-null  float64\n",
            " 26  V26     109024 non-null  float64\n",
            " 27  V27     109024 non-null  float64\n",
            " 28  V28     109024 non-null  float64\n",
            " 29  Amount  109024 non-null  float64\n",
            " 30  Class   109024 non-null  float64\n",
            "dtypes: float64(30), int64(1)\n",
            "memory usage: 25.8 MB\n"
          ]
        }
      ]
    },
    {
      "cell_type": "code",
      "source": [
        "df.describe()"
      ],
      "metadata": {
        "colab": {
          "base_uri": "https://localhost:8080/",
          "height": 349
        },
        "id": "2YRvbwjqcoGR",
        "outputId": "ad617623-f933-48e4-a399-584073bf64b2"
      },
      "execution_count": 5,
      "outputs": [
        {
          "output_type": "execute_result",
          "data": {
            "text/plain": [
              "                Time             V1             V2             V3  \\\n",
              "count  109025.000000  109025.000000  109025.000000  109025.000000   \n",
              "mean    44645.276707      -0.256883      -0.025148       0.682026   \n",
              "std     17910.956447       1.851918       1.646552       1.312689   \n",
              "min         0.000000     -56.407510     -72.715728     -33.680984   \n",
              "25%     34466.000000      -1.022536      -0.594704       0.176662   \n",
              "50%     46486.000000      -0.260725       0.078851       0.757593   \n",
              "75%     59079.000000       1.155066       0.739987       1.381997   \n",
              "max     71184.000000       1.960497      18.902453       4.226108   \n",
              "\n",
              "                  V4             V5             V6             V7  \\\n",
              "count  109025.000000  109025.000000  109025.000000  109025.000000   \n",
              "mean        0.156138      -0.283840       0.096437      -0.115878   \n",
              "std         1.342222       1.345002       1.297956       1.204303   \n",
              "min        -5.172595     -42.147898     -26.160506     -31.764946   \n",
              "25%        -0.711427      -0.906796      -0.647201      -0.604942   \n",
              "50%         0.184474      -0.318199      -0.156136      -0.071019   \n",
              "75%         1.021482       0.243535       0.490683       0.410307   \n",
              "max        16.715537      34.801666      22.529298      36.677268   \n",
              "\n",
              "                  V8             V9  ...            V21            V22  \\\n",
              "count  109025.000000  109025.000000  ...  109024.000000  109024.000000   \n",
              "mean        0.058907      -0.058148  ...      -0.031439      -0.108487   \n",
              "std         1.228831       1.107857  ...       0.739326       0.639778   \n",
              "min       -73.216718      -9.283925  ...     -34.830382     -10.933144   \n",
              "25%        -0.134455      -0.698260  ...      -0.224526      -0.535608   \n",
              "50%         0.077647      -0.124576  ...      -0.057137      -0.084788   \n",
              "75%         0.368885       0.536933  ...       0.120029       0.312712   \n",
              "max        20.007208      10.392889  ...      27.202839      10.503090   \n",
              "\n",
              "                 V23            V24            V25            V26  \\\n",
              "count  109024.000000  109024.000000  109024.000000  109024.000000   \n",
              "mean       -0.037077       0.010548       0.133002       0.025850   \n",
              "std         0.625171       0.595426       0.439685       0.491488   \n",
              "min       -44.807735      -2.836627     -10.295397      -2.534330   \n",
              "25%        -0.176381      -0.323376      -0.130809      -0.323685   \n",
              "50%        -0.049097       0.066487       0.170840      -0.068262   \n",
              "75%         0.080875       0.407577       0.420394       0.293750   \n",
              "max        19.002942       4.016342       5.541598       3.517346   \n",
              "\n",
              "                 V27            V28         Amount          Class  \n",
              "count  109024.000000  109024.000000  109024.000000  109024.000000  \n",
              "mean        0.001697       0.001575      95.976655       0.002192  \n",
              "std         0.392049       0.319122     259.985100       0.046770  \n",
              "min        -9.390980      -9.617915       0.000000       0.000000  \n",
              "25%        -0.061028      -0.004984       7.000000       0.000000  \n",
              "50%         0.010695       0.023386      25.000000       0.000000  \n",
              "75%         0.084706       0.076715      86.982500       0.000000  \n",
              "max        12.152401      33.847808   19656.530000       1.000000  \n",
              "\n",
              "[8 rows x 31 columns]"
            ],
            "text/html": [
              "\n",
              "  <div id=\"df-c2a56ea1-42a4-4619-ab28-9efb512b58cf\" class=\"colab-df-container\">\n",
              "    <div>\n",
              "<style scoped>\n",
              "    .dataframe tbody tr th:only-of-type {\n",
              "        vertical-align: middle;\n",
              "    }\n",
              "\n",
              "    .dataframe tbody tr th {\n",
              "        vertical-align: top;\n",
              "    }\n",
              "\n",
              "    .dataframe thead th {\n",
              "        text-align: right;\n",
              "    }\n",
              "</style>\n",
              "<table border=\"1\" class=\"dataframe\">\n",
              "  <thead>\n",
              "    <tr style=\"text-align: right;\">\n",
              "      <th></th>\n",
              "      <th>Time</th>\n",
              "      <th>V1</th>\n",
              "      <th>V2</th>\n",
              "      <th>V3</th>\n",
              "      <th>V4</th>\n",
              "      <th>V5</th>\n",
              "      <th>V6</th>\n",
              "      <th>V7</th>\n",
              "      <th>V8</th>\n",
              "      <th>V9</th>\n",
              "      <th>...</th>\n",
              "      <th>V21</th>\n",
              "      <th>V22</th>\n",
              "      <th>V23</th>\n",
              "      <th>V24</th>\n",
              "      <th>V25</th>\n",
              "      <th>V26</th>\n",
              "      <th>V27</th>\n",
              "      <th>V28</th>\n",
              "      <th>Amount</th>\n",
              "      <th>Class</th>\n",
              "    </tr>\n",
              "  </thead>\n",
              "  <tbody>\n",
              "    <tr>\n",
              "      <th>count</th>\n",
              "      <td>109025.000000</td>\n",
              "      <td>109025.000000</td>\n",
              "      <td>109025.000000</td>\n",
              "      <td>109025.000000</td>\n",
              "      <td>109025.000000</td>\n",
              "      <td>109025.000000</td>\n",
              "      <td>109025.000000</td>\n",
              "      <td>109025.000000</td>\n",
              "      <td>109025.000000</td>\n",
              "      <td>109025.000000</td>\n",
              "      <td>...</td>\n",
              "      <td>109024.000000</td>\n",
              "      <td>109024.000000</td>\n",
              "      <td>109024.000000</td>\n",
              "      <td>109024.000000</td>\n",
              "      <td>109024.000000</td>\n",
              "      <td>109024.000000</td>\n",
              "      <td>109024.000000</td>\n",
              "      <td>109024.000000</td>\n",
              "      <td>109024.000000</td>\n",
              "      <td>109024.000000</td>\n",
              "    </tr>\n",
              "    <tr>\n",
              "      <th>mean</th>\n",
              "      <td>44645.276707</td>\n",
              "      <td>-0.256883</td>\n",
              "      <td>-0.025148</td>\n",
              "      <td>0.682026</td>\n",
              "      <td>0.156138</td>\n",
              "      <td>-0.283840</td>\n",
              "      <td>0.096437</td>\n",
              "      <td>-0.115878</td>\n",
              "      <td>0.058907</td>\n",
              "      <td>-0.058148</td>\n",
              "      <td>...</td>\n",
              "      <td>-0.031439</td>\n",
              "      <td>-0.108487</td>\n",
              "      <td>-0.037077</td>\n",
              "      <td>0.010548</td>\n",
              "      <td>0.133002</td>\n",
              "      <td>0.025850</td>\n",
              "      <td>0.001697</td>\n",
              "      <td>0.001575</td>\n",
              "      <td>95.976655</td>\n",
              "      <td>0.002192</td>\n",
              "    </tr>\n",
              "    <tr>\n",
              "      <th>std</th>\n",
              "      <td>17910.956447</td>\n",
              "      <td>1.851918</td>\n",
              "      <td>1.646552</td>\n",
              "      <td>1.312689</td>\n",
              "      <td>1.342222</td>\n",
              "      <td>1.345002</td>\n",
              "      <td>1.297956</td>\n",
              "      <td>1.204303</td>\n",
              "      <td>1.228831</td>\n",
              "      <td>1.107857</td>\n",
              "      <td>...</td>\n",
              "      <td>0.739326</td>\n",
              "      <td>0.639778</td>\n",
              "      <td>0.625171</td>\n",
              "      <td>0.595426</td>\n",
              "      <td>0.439685</td>\n",
              "      <td>0.491488</td>\n",
              "      <td>0.392049</td>\n",
              "      <td>0.319122</td>\n",
              "      <td>259.985100</td>\n",
              "      <td>0.046770</td>\n",
              "    </tr>\n",
              "    <tr>\n",
              "      <th>min</th>\n",
              "      <td>0.000000</td>\n",
              "      <td>-56.407510</td>\n",
              "      <td>-72.715728</td>\n",
              "      <td>-33.680984</td>\n",
              "      <td>-5.172595</td>\n",
              "      <td>-42.147898</td>\n",
              "      <td>-26.160506</td>\n",
              "      <td>-31.764946</td>\n",
              "      <td>-73.216718</td>\n",
              "      <td>-9.283925</td>\n",
              "      <td>...</td>\n",
              "      <td>-34.830382</td>\n",
              "      <td>-10.933144</td>\n",
              "      <td>-44.807735</td>\n",
              "      <td>-2.836627</td>\n",
              "      <td>-10.295397</td>\n",
              "      <td>-2.534330</td>\n",
              "      <td>-9.390980</td>\n",
              "      <td>-9.617915</td>\n",
              "      <td>0.000000</td>\n",
              "      <td>0.000000</td>\n",
              "    </tr>\n",
              "    <tr>\n",
              "      <th>25%</th>\n",
              "      <td>34466.000000</td>\n",
              "      <td>-1.022536</td>\n",
              "      <td>-0.594704</td>\n",
              "      <td>0.176662</td>\n",
              "      <td>-0.711427</td>\n",
              "      <td>-0.906796</td>\n",
              "      <td>-0.647201</td>\n",
              "      <td>-0.604942</td>\n",
              "      <td>-0.134455</td>\n",
              "      <td>-0.698260</td>\n",
              "      <td>...</td>\n",
              "      <td>-0.224526</td>\n",
              "      <td>-0.535608</td>\n",
              "      <td>-0.176381</td>\n",
              "      <td>-0.323376</td>\n",
              "      <td>-0.130809</td>\n",
              "      <td>-0.323685</td>\n",
              "      <td>-0.061028</td>\n",
              "      <td>-0.004984</td>\n",
              "      <td>7.000000</td>\n",
              "      <td>0.000000</td>\n",
              "    </tr>\n",
              "    <tr>\n",
              "      <th>50%</th>\n",
              "      <td>46486.000000</td>\n",
              "      <td>-0.260725</td>\n",
              "      <td>0.078851</td>\n",
              "      <td>0.757593</td>\n",
              "      <td>0.184474</td>\n",
              "      <td>-0.318199</td>\n",
              "      <td>-0.156136</td>\n",
              "      <td>-0.071019</td>\n",
              "      <td>0.077647</td>\n",
              "      <td>-0.124576</td>\n",
              "      <td>...</td>\n",
              "      <td>-0.057137</td>\n",
              "      <td>-0.084788</td>\n",
              "      <td>-0.049097</td>\n",
              "      <td>0.066487</td>\n",
              "      <td>0.170840</td>\n",
              "      <td>-0.068262</td>\n",
              "      <td>0.010695</td>\n",
              "      <td>0.023386</td>\n",
              "      <td>25.000000</td>\n",
              "      <td>0.000000</td>\n",
              "    </tr>\n",
              "    <tr>\n",
              "      <th>75%</th>\n",
              "      <td>59079.000000</td>\n",
              "      <td>1.155066</td>\n",
              "      <td>0.739987</td>\n",
              "      <td>1.381997</td>\n",
              "      <td>1.021482</td>\n",
              "      <td>0.243535</td>\n",
              "      <td>0.490683</td>\n",
              "      <td>0.410307</td>\n",
              "      <td>0.368885</td>\n",
              "      <td>0.536933</td>\n",
              "      <td>...</td>\n",
              "      <td>0.120029</td>\n",
              "      <td>0.312712</td>\n",
              "      <td>0.080875</td>\n",
              "      <td>0.407577</td>\n",
              "      <td>0.420394</td>\n",
              "      <td>0.293750</td>\n",
              "      <td>0.084706</td>\n",
              "      <td>0.076715</td>\n",
              "      <td>86.982500</td>\n",
              "      <td>0.000000</td>\n",
              "    </tr>\n",
              "    <tr>\n",
              "      <th>max</th>\n",
              "      <td>71184.000000</td>\n",
              "      <td>1.960497</td>\n",
              "      <td>18.902453</td>\n",
              "      <td>4.226108</td>\n",
              "      <td>16.715537</td>\n",
              "      <td>34.801666</td>\n",
              "      <td>22.529298</td>\n",
              "      <td>36.677268</td>\n",
              "      <td>20.007208</td>\n",
              "      <td>10.392889</td>\n",
              "      <td>...</td>\n",
              "      <td>27.202839</td>\n",
              "      <td>10.503090</td>\n",
              "      <td>19.002942</td>\n",
              "      <td>4.016342</td>\n",
              "      <td>5.541598</td>\n",
              "      <td>3.517346</td>\n",
              "      <td>12.152401</td>\n",
              "      <td>33.847808</td>\n",
              "      <td>19656.530000</td>\n",
              "      <td>1.000000</td>\n",
              "    </tr>\n",
              "  </tbody>\n",
              "</table>\n",
              "<p>8 rows × 31 columns</p>\n",
              "</div>\n",
              "    <div class=\"colab-df-buttons\">\n",
              "\n",
              "  <div class=\"colab-df-container\">\n",
              "    <button class=\"colab-df-convert\" onclick=\"convertToInteractive('df-c2a56ea1-42a4-4619-ab28-9efb512b58cf')\"\n",
              "            title=\"Convert this dataframe to an interactive table.\"\n",
              "            style=\"display:none;\">\n",
              "\n",
              "  <svg xmlns=\"http://www.w3.org/2000/svg\" height=\"24px\" viewBox=\"0 -960 960 960\">\n",
              "    <path d=\"M120-120v-720h720v720H120Zm60-500h600v-160H180v160Zm220 220h160v-160H400v160Zm0 220h160v-160H400v160ZM180-400h160v-160H180v160Zm440 0h160v-160H620v160ZM180-180h160v-160H180v160Zm440 0h160v-160H620v160Z\"/>\n",
              "  </svg>\n",
              "    </button>\n",
              "\n",
              "  <style>\n",
              "    .colab-df-container {\n",
              "      display:flex;\n",
              "      gap: 12px;\n",
              "    }\n",
              "\n",
              "    .colab-df-convert {\n",
              "      background-color: #E8F0FE;\n",
              "      border: none;\n",
              "      border-radius: 50%;\n",
              "      cursor: pointer;\n",
              "      display: none;\n",
              "      fill: #1967D2;\n",
              "      height: 32px;\n",
              "      padding: 0 0 0 0;\n",
              "      width: 32px;\n",
              "    }\n",
              "\n",
              "    .colab-df-convert:hover {\n",
              "      background-color: #E2EBFA;\n",
              "      box-shadow: 0px 1px 2px rgba(60, 64, 67, 0.3), 0px 1px 3px 1px rgba(60, 64, 67, 0.15);\n",
              "      fill: #174EA6;\n",
              "    }\n",
              "\n",
              "    .colab-df-buttons div {\n",
              "      margin-bottom: 4px;\n",
              "    }\n",
              "\n",
              "    [theme=dark] .colab-df-convert {\n",
              "      background-color: #3B4455;\n",
              "      fill: #D2E3FC;\n",
              "    }\n",
              "\n",
              "    [theme=dark] .colab-df-convert:hover {\n",
              "      background-color: #434B5C;\n",
              "      box-shadow: 0px 1px 3px 1px rgba(0, 0, 0, 0.15);\n",
              "      filter: drop-shadow(0px 1px 2px rgba(0, 0, 0, 0.3));\n",
              "      fill: #FFFFFF;\n",
              "    }\n",
              "  </style>\n",
              "\n",
              "    <script>\n",
              "      const buttonEl =\n",
              "        document.querySelector('#df-c2a56ea1-42a4-4619-ab28-9efb512b58cf button.colab-df-convert');\n",
              "      buttonEl.style.display =\n",
              "        google.colab.kernel.accessAllowed ? 'block' : 'none';\n",
              "\n",
              "      async function convertToInteractive(key) {\n",
              "        const element = document.querySelector('#df-c2a56ea1-42a4-4619-ab28-9efb512b58cf');\n",
              "        const dataTable =\n",
              "          await google.colab.kernel.invokeFunction('convertToInteractive',\n",
              "                                                    [key], {});\n",
              "        if (!dataTable) return;\n",
              "\n",
              "        const docLinkHtml = 'Like what you see? Visit the ' +\n",
              "          '<a target=\"_blank\" href=https://colab.research.google.com/notebooks/data_table.ipynb>data table notebook</a>'\n",
              "          + ' to learn more about interactive tables.';\n",
              "        element.innerHTML = '';\n",
              "        dataTable['output_type'] = 'display_data';\n",
              "        await google.colab.output.renderOutput(dataTable, element);\n",
              "        const docLink = document.createElement('div');\n",
              "        docLink.innerHTML = docLinkHtml;\n",
              "        element.appendChild(docLink);\n",
              "      }\n",
              "    </script>\n",
              "  </div>\n",
              "\n",
              "\n",
              "    <div id=\"df-3fb20a51-0fbf-478f-9a0e-745db591a1ee\">\n",
              "      <button class=\"colab-df-quickchart\" onclick=\"quickchart('df-3fb20a51-0fbf-478f-9a0e-745db591a1ee')\"\n",
              "                title=\"Suggest charts\"\n",
              "                style=\"display:none;\">\n",
              "\n",
              "<svg xmlns=\"http://www.w3.org/2000/svg\" height=\"24px\"viewBox=\"0 0 24 24\"\n",
              "     width=\"24px\">\n",
              "    <g>\n",
              "        <path d=\"M19 3H5c-1.1 0-2 .9-2 2v14c0 1.1.9 2 2 2h14c1.1 0 2-.9 2-2V5c0-1.1-.9-2-2-2zM9 17H7v-7h2v7zm4 0h-2V7h2v10zm4 0h-2v-4h2v4z\"/>\n",
              "    </g>\n",
              "</svg>\n",
              "      </button>\n",
              "\n",
              "<style>\n",
              "  .colab-df-quickchart {\n",
              "      --bg-color: #E8F0FE;\n",
              "      --fill-color: #1967D2;\n",
              "      --hover-bg-color: #E2EBFA;\n",
              "      --hover-fill-color: #174EA6;\n",
              "      --disabled-fill-color: #AAA;\n",
              "      --disabled-bg-color: #DDD;\n",
              "  }\n",
              "\n",
              "  [theme=dark] .colab-df-quickchart {\n",
              "      --bg-color: #3B4455;\n",
              "      --fill-color: #D2E3FC;\n",
              "      --hover-bg-color: #434B5C;\n",
              "      --hover-fill-color: #FFFFFF;\n",
              "      --disabled-bg-color: #3B4455;\n",
              "      --disabled-fill-color: #666;\n",
              "  }\n",
              "\n",
              "  .colab-df-quickchart {\n",
              "    background-color: var(--bg-color);\n",
              "    border: none;\n",
              "    border-radius: 50%;\n",
              "    cursor: pointer;\n",
              "    display: none;\n",
              "    fill: var(--fill-color);\n",
              "    height: 32px;\n",
              "    padding: 0;\n",
              "    width: 32px;\n",
              "  }\n",
              "\n",
              "  .colab-df-quickchart:hover {\n",
              "    background-color: var(--hover-bg-color);\n",
              "    box-shadow: 0 1px 2px rgba(60, 64, 67, 0.3), 0 1px 3px 1px rgba(60, 64, 67, 0.15);\n",
              "    fill: var(--button-hover-fill-color);\n",
              "  }\n",
              "\n",
              "  .colab-df-quickchart-complete:disabled,\n",
              "  .colab-df-quickchart-complete:disabled:hover {\n",
              "    background-color: var(--disabled-bg-color);\n",
              "    fill: var(--disabled-fill-color);\n",
              "    box-shadow: none;\n",
              "  }\n",
              "\n",
              "  .colab-df-spinner {\n",
              "    border: 2px solid var(--fill-color);\n",
              "    border-color: transparent;\n",
              "    border-bottom-color: var(--fill-color);\n",
              "    animation:\n",
              "      spin 1s steps(1) infinite;\n",
              "  }\n",
              "\n",
              "  @keyframes spin {\n",
              "    0% {\n",
              "      border-color: transparent;\n",
              "      border-bottom-color: var(--fill-color);\n",
              "      border-left-color: var(--fill-color);\n",
              "    }\n",
              "    20% {\n",
              "      border-color: transparent;\n",
              "      border-left-color: var(--fill-color);\n",
              "      border-top-color: var(--fill-color);\n",
              "    }\n",
              "    30% {\n",
              "      border-color: transparent;\n",
              "      border-left-color: var(--fill-color);\n",
              "      border-top-color: var(--fill-color);\n",
              "      border-right-color: var(--fill-color);\n",
              "    }\n",
              "    40% {\n",
              "      border-color: transparent;\n",
              "      border-right-color: var(--fill-color);\n",
              "      border-top-color: var(--fill-color);\n",
              "    }\n",
              "    60% {\n",
              "      border-color: transparent;\n",
              "      border-right-color: var(--fill-color);\n",
              "    }\n",
              "    80% {\n",
              "      border-color: transparent;\n",
              "      border-right-color: var(--fill-color);\n",
              "      border-bottom-color: var(--fill-color);\n",
              "    }\n",
              "    90% {\n",
              "      border-color: transparent;\n",
              "      border-bottom-color: var(--fill-color);\n",
              "    }\n",
              "  }\n",
              "</style>\n",
              "\n",
              "      <script>\n",
              "        async function quickchart(key) {\n",
              "          const quickchartButtonEl =\n",
              "            document.querySelector('#' + key + ' button');\n",
              "          quickchartButtonEl.disabled = true;  // To prevent multiple clicks.\n",
              "          quickchartButtonEl.classList.add('colab-df-spinner');\n",
              "          try {\n",
              "            const charts = await google.colab.kernel.invokeFunction(\n",
              "                'suggestCharts', [key], {});\n",
              "          } catch (error) {\n",
              "            console.error('Error during call to suggestCharts:', error);\n",
              "          }\n",
              "          quickchartButtonEl.classList.remove('colab-df-spinner');\n",
              "          quickchartButtonEl.classList.add('colab-df-quickchart-complete');\n",
              "        }\n",
              "        (() => {\n",
              "          let quickchartButtonEl =\n",
              "            document.querySelector('#df-3fb20a51-0fbf-478f-9a0e-745db591a1ee button');\n",
              "          quickchartButtonEl.style.display =\n",
              "            google.colab.kernel.accessAllowed ? 'block' : 'none';\n",
              "        })();\n",
              "      </script>\n",
              "    </div>\n",
              "\n",
              "    </div>\n",
              "  </div>\n"
            ],
            "application/vnd.google.colaboratory.intrinsic+json": {
              "type": "dataframe"
            }
          },
          "metadata": {},
          "execution_count": 5
        }
      ]
    },
    {
      "cell_type": "markdown",
      "source": [
        "**Las variables V1 a V28**: son el resultado de aplicar PCA (Análisis de Componentes Principales) sobre los datos originales por temas de confidencialidad. Seguramente el dataset fue anonimizado para proteger los datos reales. Ya se encuentran normalizados ya que la media es cercana a 0.\n",
        "\n",
        "**La variable Time**: representa el tiempo en segundos transcurrido desde la primera transacción del dataset. Presenta valores muy extremos, por lo tanto requieren tratamiento.\n",
        "\n",
        "**El monto (Amount)**: varía entre 0 y casi 20.000, pero el 75% de las transacciones son menores a 87, lo que indica una gran cantidad de microtransacciones. Tiene una alta desviación estándar (~260) con un máximo de más de $19.000, lo que también sugiere outliers."
      ],
      "metadata": {
        "id": "XFqDJWeldyMM"
      }
    },
    {
      "cell_type": "code",
      "source": [
        "import matplotlib.pyplot as plt\n",
        "import seaborn as sns"
      ],
      "metadata": {
        "id": "0YXF9MnSgeAy"
      },
      "execution_count": 6,
      "outputs": []
    },
    {
      "cell_type": "code",
      "source": [
        "plt.figure(figsize = (5,6))\n",
        "sns.countplot(data = df, x = df[\"Class\"])"
      ],
      "metadata": {
        "colab": {
          "base_uri": "https://localhost:8080/",
          "height": 560
        },
        "id": "o2F4yzTpgq_f",
        "outputId": "c153a98e-3732-4287-c46f-f2d677cf8b2b"
      },
      "execution_count": 8,
      "outputs": [
        {
          "output_type": "execute_result",
          "data": {
            "text/plain": [
              "<Axes: xlabel='Class', ylabel='count'>"
            ]
          },
          "metadata": {},
          "execution_count": 8
        },
        {
          "output_type": "display_data",
          "data": {
            "text/plain": [
              "<Figure size 500x600 with 1 Axes>"
            ],
            "image/png": "[encoded data removed]"
          },
          "metadata": {}
        }
      ]
    },
    {
      "cell_type": "code",
      "source": [
        "conteo = df[\"Class\"].value_counts()\n",
        "print(conteo)"
      ],
      "metadata": {
        "colab": {
          "base_uri": "https://localhost:8080/"
        },
        "id": "P8Jpq9jzhVVI",
        "outputId": "f57b497f-ff60-4360-fa0c-99fb1238d300"
      },
      "execution_count": 11,
      "outputs": [
        {
          "output_type": "stream",
          "name": "stdout",
          "text": [
            "Class\n",
            "0.0    108785\n",
            "1.0       239\n",
            "Name: count, dtype: int64\n"
          ]
        }
      ]
    },
    {
      "cell_type": "code",
      "source": [
        "df[[\"Amount\", \"Time\"]].hist(figsize=(10, 8), bins=30)\n",
        "plt.tight_layout()\n",
        "plt.show()"
      ],
      "metadata": {
        "colab": {
          "base_uri": "https://localhost:8080/",
          "height": 807
        },
        "id": "mbMwWzE9iCbf",
        "outputId": "e526f2e1-c659-4358-c966-7ba673ffe48a"
      },
      "execution_count": 19,
      "outputs": [
        {
          "output_type": "display_data",
          "data": {
            "text/plain": [
              "<Figure size 1000x800 with 2 Axes>"
            ],
            "image/png": "[encoded data removed]"
          },
          "metadata": {}
        }
      ]
    },
    {
      "cell_type": "markdown",
      "source": [
        "**Amount**: varía entre 0 y casi 20.000, el 75% de las transacciones son menores a 87. Posee outliers."
      ],
      "metadata": {
        "id": "PYQpxSL0m5c8"
      }
    },
    {
      "cell_type": "code",
      "source": [
        "conteo2 = df[\"Amount\"].value_counts()\n",
        "print(conteo2)"
      ],
      "metadata": {
        "colab": {
          "base_uri": "https://localhost:8080/"
        },
        "id": "E_h4JiZkmmy9",
        "outputId": "b3207236-6bbd-47ed-c8ce-12c20309e997"
      },
      "execution_count": 22,
      "outputs": [
        {
          "output_type": "stream",
          "name": "stdout",
          "text": [
            "Amount\n",
            "1.00      4583\n",
            "1.98      1982\n",
            "9.99      1708\n",
            "0.89      1559\n",
            "15.00     1264\n",
            "          ... \n",
            "204.21       1\n",
            "468.29       1\n",
            "219.42       1\n",
            "29.15        1\n",
            "522.12       1\n",
            "Name: count, Length: 20558, dtype: int64\n"
          ]
        }
      ]
    },
    {
      "cell_type": "markdown",
      "source": [
        "**Correlación**:"
      ],
      "metadata": {
        "id": "IstpMzoUosr8"
      }
    },
    {
      "cell_type": "code",
      "source": [
        "corr_max = df.corr()\n",
        "corr_max[\"Class\"].sort_values(ascending = False)"
      ],
      "metadata": {
        "colab": {
          "base_uri": "https://localhost:8080/",
          "height": 1000
        },
        "id": "KqYEDKHaoo7_",
        "outputId": "a2af466b-b615-437b-e13a-59f7283d3b6c"
      },
      "execution_count": 30,
      "outputs": [
        {
          "output_type": "execute_result",
          "data": {
            "text/plain": [
              "Class     1.000000\n",
              "V11       0.179808\n",
              "V4        0.160327\n",
              "V2        0.119698\n",
              "V21       0.087963\n",
              "V27       0.063579\n",
              "V8        0.058783\n",
              "V19       0.044956\n",
              "V20       0.013613\n",
              "V28       0.009706\n",
              "V25       0.008814\n",
              "V26       0.006284\n",
              "Amount    0.004273\n",
              "V15       0.001376\n",
              "V13      -0.002852\n",
              "V23      -0.004746\n",
              "V24      -0.009718\n",
              "Time     -0.015169\n",
              "V22      -0.017036\n",
              "V6       -0.058958\n",
              "V9       -0.113786\n",
              "V5       -0.138950\n",
              "V1       -0.144920\n",
              "V18      -0.153176\n",
              "V7       -0.242952\n",
              "V16      -0.248159\n",
              "V10      -0.263107\n",
              "V12      -0.289975\n",
              "V3       -0.298411\n",
              "V14      -0.366853\n",
              "V17      -0.401974\n",
              "Name: Class, dtype: float64"
            ],
            "text/html": [
              "<div>\n",
              "<style scoped>\n",
              "    .dataframe tbody tr th:only-of-type {\n",
              "        vertical-align: middle;\n",
              "    }\n",
              "\n",
              "    .dataframe tbody tr th {\n",
              "        vertical-align: top;\n",
              "    }\n",
              "\n",
              "    .dataframe thead th {\n",
              "        text-align: right;\n",
              "    }\n",
              "</style>\n",
              "<table border=\"1\" class=\"dataframe\">\n",
              "  <thead>\n",
              "    <tr style=\"text-align: right;\">\n",
              "      <th></th>\n",
              "      <th>Class</th>\n",
              "    </tr>\n",
              "  </thead>\n",
              "  <tbody>\n",
              "    <tr>\n",
              "      <th>Class</th>\n",
              "      <td>1.000000</td>\n",
              "    </tr>\n",
              "    <tr>\n",
              "      <th>V11</th>\n",
              "      <td>0.179808</td>\n",
              "    </tr>\n",
              "    <tr>\n",
              "      <th>V4</th>\n",
              "      <td>0.160327</td>\n",
              "    </tr>\n",
              "    <tr>\n",
              "      <th>V2</th>\n",
              "      <td>0.119698</td>\n",
              "    </tr>\n",
              "    <tr>\n",
              "      <th>V21</th>\n",
              "      <td>0.087963</td>\n",
              "    </tr>\n",
              "    <tr>\n",
              "      <th>V27</th>\n",
              "      <td>0.063579</td>\n",
              "    </tr>\n",
              "    <tr>\n",
              "      <th>V8</th>\n",
              "      <td>0.058783</td>\n",
              "    </tr>\n",
              "    <tr>\n",
              "      <th>V19</th>\n",
              "      <td>0.044956</td>\n",
              "    </tr>\n",
              "    <tr>\n",
              "      <th>V20</th>\n",
              "      <td>0.013613</td>\n",
              "    </tr>\n",
              "    <tr>\n",
              "      <th>V28</th>\n",
              "      <td>0.009706</td>\n",
              "    </tr>\n",
              "    <tr>\n",
              "      <th>V25</th>\n",
              "      <td>0.008814</td>\n",
              "    </tr>\n",
              "    <tr>\n",
              "      <th>V26</th>\n",
              "      <td>0.006284</td>\n",
              "    </tr>\n",
              "    <tr>\n",
              "      <th>Amount</th>\n",
              "      <td>0.004273</td>\n",
              "    </tr>\n",
              "    <tr>\n",
              "      <th>V15</th>\n",
              "      <td>0.001376</td>\n",
              "    </tr>\n",
              "    <tr>\n",
              "      <th>V13</th>\n",
              "      <td>-0.002852</td>\n",
              "    </tr>\n",
              "    <tr>\n",
              "      <th>V23</th>\n",
              "      <td>-0.004746</td>\n",
              "    </tr>\n",
              "    <tr>\n",
              "      <th>V24</th>\n",
              "      <td>-0.009718</td>\n",
              "    </tr>\n",
              "    <tr>\n",
              "      <th>Time</th>\n",
              "      <td>-0.015169</td>\n",
              "    </tr>\n",
              "    <tr>\n",
              "      <th>V22</th>\n",
              "      <td>-0.017036</td>\n",
              "    </tr>\n",
              "    <tr>\n",
              "      <th>V6</th>\n",
              "      <td>-0.058958</td>\n",
              "    </tr>\n",
              "    <tr>\n",
              "      <th>V9</th>\n",
              "      <td>-0.113786</td>\n",
              "    </tr>\n",
              "    <tr>\n",
              "      <th>V5</th>\n",
              "      <td>-0.138950</td>\n",
              "    </tr>\n",
              "    <tr>\n",
              "      <th>V1</th>\n",
              "      <td>-0.144920</td>\n",
              "    </tr>\n",
              "    <tr>\n",
              "      <th>V18</th>\n",
              "      <td>-0.153176</td>\n",
              "    </tr>\n",
              "    <tr>\n",
              "      <th>V7</th>\n",
              "      <td>-0.242952</td>\n",
              "    </tr>\n",
              "    <tr>\n",
              "      <th>V16</th>\n",
              "      <td>-0.248159</td>\n",
              "    </tr>\n",
              "    <tr>\n",
              "      <th>V10</th>\n",
              "      <td>-0.263107</td>\n",
              "    </tr>\n",
              "    <tr>\n",
              "      <th>V12</th>\n",
              "      <td>-0.289975</td>\n",
              "    </tr>\n",
              "    <tr>\n",
              "      <th>V3</th>\n",
              "      <td>-0.298411</td>\n",
              "    </tr>\n",
              "    <tr>\n",
              "      <th>V14</th>\n",
              "      <td>-0.366853</td>\n",
              "    </tr>\n",
              "    <tr>\n",
              "      <th>V17</th>\n",
              "      <td>-0.401974</td>\n",
              "    </tr>\n",
              "  </tbody>\n",
              "</table>\n",
              "</div><br><label><b>dtype:</b> float64</label>"
            ]
          },
          "metadata": {},
          "execution_count": 30
        }
      ]
    },
    {
      "cell_type": "markdown",
      "source": [
        "Las variables más relacionadas con el fraude son: V11, V4, V2, V17, V14.\n",
        "\n",
        "Sin embargo, es posible que Amount y Time tengan relaciones no lineales o interacciones con otras variables que sí sean útiles."
      ],
      "metadata": {
        "id": "KbnKolMvv2Ad"
      }
    },
    {
      "cell_type": "code",
      "source": [
        "# Visualizamos variables con mayor correlación positiva y negativa\n",
        "variables_interes = ['V11', 'V4', 'V2', 'V17', 'V14']\n",
        "\n",
        "for col in variables_interes:\n",
        "    sns.boxplot(x='Class', y=col, data=df)\n",
        "    plt.title(f'Distribución de {col} según la clase')\n",
        "    plt.show()\n"
      ],
      "metadata": {
        "colab": {
          "base_uri": "https://localhost:8080/",
          "height": 1000
        },
        "id": "DudVejkkte1n",
        "outputId": "b33ed235-866a-426d-9b79-0e0e2cc29682"
      },
      "execution_count": 33,
      "outputs": [
        {
          "output_type": "display_data",
          "data": {
            "text/plain": [
              "<Figure size 640x480 with 1 Axes>"
            ],
            "image/png": "[encoded data removed]"
          },
          "metadata": {}
        },
        {
          "output_type": "display_data",
          "data": {
            "text/plain": [
              "<Figure size 640x480 with 1 Axes>"
            ],
            "image/png": "[encoded data removed]"
          },
          "metadata": {}
        },
        {
          "output_type": "display_data",
          "data": {
            "text/plain": [
              "<Figure size 640x480 with 1 Axes>"
            ],
            "image/png": "[encoded data removed]"
          },
          "metadata": {}
        },
        {
          "output_type": "display_data",
          "data": {
            "text/plain": [
              "<Figure size 640x480 with 1 Axes>"
            ],
            "image/png": "[encoded data removed]"
          },
          "metadata": {}
        },
        {
          "output_type": "display_data",
          "data": {
            "text/plain": [
              "<Figure size 640x480 with 1 Axes>"
            ],
            "image/png": "[encoded data removed]"
          },
          "metadata": {}
        }
      ]
    },
    {
      "cell_type": "markdown",
      "source": [
        "**V11**\n",
        "\n",
        "Observación: La mediana de V11 para fraudes (Class = 1) es mucho mayor (alrededor de 4) que para transacciones normales (alrededor de 0).\n",
        "\n",
        "Dispersión: Hay más valores altos en fraude; los valores típicos de transacciones legítimas se agrupan entre -1 y 2.\n",
        "\n",
        "Conclusión: Muy buena variable discriminante. Ayuda a separar claramente fraudes de no fraudes. Puede tener mucho peso en el modelo.\n",
        "\n",
        "**V4**\n",
        "\n",
        "Observación: Clarísima separación de medianas (más de 5 en fraudes vs ~0 en normales).\n",
        "\n",
        "Fraudes con valores más altos, sin muchos outliers como en Class = 0.\n",
        "\n",
        "Conclusión: Gran candidata predictiva. Podría indicar que ciertas combinaciones de inputs se disparan en el fraude.\n",
        "\n",
        "**V2**\n",
        "\n",
        "Observación: Transacciones normales tienen una nube enorme de outliers negativos (hasta -60), mientras que las fraudulentas están contenidas.\n",
        "\n",
        "Fraudes bien agrupados en un rango más chico, positivos, lo cual es interesante.\n",
        "\n",
        "Conclusión: la dispersión cada clase es distinta, quizas es útil.\n",
        "\n",
        "**V17**\n",
        "\n",
        "Observación: Clarísima diferencia de mediana: muy negativa en Class = 1, neutra en Class = 0.\n",
        "\n",
        "Distribución muy sesgada hacia valores negativos para fraude.\n",
        "\n",
        "Conclusión: Excelente señal para detectar fraude. Incluso visualmente se ve que si V17 baja mucho, es altamente sospechoso.\n",
        "\n",
        "\n",
        "**V14**\n",
        "\n",
        "Observación: Patrón similar al de V17.\n",
        "\n",
        "Los fraudes tienen valores consistentemente más negativos.\n",
        "\n",
        "Conclusión: Muy buena variable. Como V17, parece que cuando baja, el riesgo de fraude sube.\n",
        "\n"
      ],
      "metadata": {
        "id": "x9klbbuCxwn0"
      }
    },
    {
      "cell_type": "markdown",
      "source": [
        "# **Data wrangling:**"
      ],
      "metadata": {
        "id": "rXdJpIlXzwHb"
      }
    },
    {
      "cell_type": "markdown",
      "source": [
        "**Nulos**"
      ],
      "metadata": {
        "id": "eIEaYi6L2-3p"
      }
    },
    {
      "cell_type": "code",
      "source": [
        "print(df.isnull().sum() / len(df) * 100)"
      ],
      "metadata": {
        "colab": {
          "base_uri": "https://localhost:8080/"
        },
        "id": "y5EvXuZLz0z6",
        "outputId": "ab37bfda-af27-45a1-e980-5b381304f446"
      },
      "execution_count": 34,
      "outputs": [
        {
          "output_type": "stream",
          "name": "stdout",
          "text": [
            "Time      0.000000\n",
            "V1        0.000000\n",
            "V2        0.000000\n",
            "V3        0.000000\n",
            "V4        0.000000\n",
            "V5        0.000000\n",
            "V6        0.000000\n",
            "V7        0.000000\n",
            "V8        0.000000\n",
            "V9        0.000000\n",
            "V10       0.000000\n",
            "V11       0.000000\n",
            "V12       0.000000\n",
            "V13       0.000000\n",
            "V14       0.000000\n",
            "V15       0.000000\n",
            "V16       0.000000\n",
            "V17       0.000000\n",
            "V18       0.000000\n",
            "V19       0.000000\n",
            "V20       0.000000\n",
            "V21       0.000917\n",
            "V22       0.000917\n",
            "V23       0.000917\n",
            "V24       0.000917\n",
            "V25       0.000917\n",
            "V26       0.000917\n",
            "V27       0.000917\n",
            "V28       0.000917\n",
            "Amount    0.000917\n",
            "Class     0.000917\n",
            "dtype: float64\n"
          ]
        }
      ]
    },
    {
      "cell_type": "code",
      "source": [
        "df = df.dropna()"
      ],
      "metadata": {
        "id": "HyONtYDF29w0"
      },
      "execution_count": 35,
      "outputs": []
    },
    {
      "cell_type": "markdown",
      "source": [
        "En este proyecto se ha optado por utilizar XGBoost como modelo base. Al tratarse de un algoritmo basado en árboles, no requiere que las variables estén normalizadas ni transformadas para simetría, ya que trabaja con umbrales de decisión y no depende de escalas o distribuciones.\n",
        "\n",
        "Asimismo, los outliers no afectan negativamente al modelo, ya que los árboles pueden dividir los datos en función de ellos sin distorsionar la predicción general. Por lo tanto, en esta etapa no se aplicaron técnicas de escalado, eliminación de outliers ni transformaciones logarítmicas."
      ],
      "metadata": {
        "id": "L0ZG7k0Z3GlB"
      }
    },
    {
      "cell_type": "markdown",
      "source": [
        "# **Modelado:**"
      ],
      "metadata": {
        "id": "r4gosrmk5xeX"
      }
    },
    {
      "cell_type": "code",
      "source": [
        "X = df[['V11', 'V4', 'V2', 'V17', 'V14', 'Amount', 'Time']]  # Features\n",
        "y = df['Class']  # Target"
      ],
      "metadata": {
        "id": "-Gm7zbyq50z1"
      },
      "execution_count": 36,
      "outputs": []
    },
    {
      "cell_type": "markdown",
      "source": [
        "Estas 7 variables fueron seleccionadas en el análisis exploratorio previo porque mostraron patrones claros de diferencia entre clases. Esta selección inicial permite entrenar un modelo simple y explicativo rápidamente."
      ],
      "metadata": {
        "id": "gYQqrxwN7Kjo"
      }
    },
    {
      "cell_type": "markdown",
      "source": [
        "**División en train/test con estratificación**"
      ],
      "metadata": {
        "id": "0TuHMy-f7To4"
      }
    },
    {
      "cell_type": "code",
      "source": [
        "from sklearn.model_selection import train_test_split\n",
        "\n",
        "X_train, X_test, y_train, y_test = train_test_split(\n",
        "    X, y, test_size=0.2, stratify=y, random_state=42\n",
        ")"
      ],
      "metadata": {
        "id": "MQnBMl927QSq"
      },
      "execution_count": 37,
      "outputs": []
    },
    {
      "cell_type": "markdown",
      "source": [
        "X e y: los datos que queremos dividir.\n",
        "\n",
        "test_size=0.2: significa que el 20% de los datos se usará para evaluación final.\n",
        "\n",
        "stratify=y: asegura que tanto en train como en test haya la misma proporción de fraudes y no fraudes. Esto es crucial porque hay muy pocos fraudes.\n",
        "\n",
        "random_state=42: hace que el resultado sea siempre el mismo cada vez que lo corras (para que sea reproducible)."
      ],
      "metadata": {
        "id": "SJARFrem8czA"
      }
    },
    {
      "cell_type": "markdown",
      "source": [
        "**Entrenamiento simple con validación cruzada**"
      ],
      "metadata": {
        "id": "8OjZAUAH8uff"
      }
    },
    {
      "cell_type": "code",
      "source": [
        "from xgboost import XGBClassifier\n",
        "from sklearn.model_selection import cross_val_score\n",
        "\n",
        "\n",
        "# Calculamos el peso relativo de la clase minoritaria (fraude)\n",
        "scale_pos_weight = (len(y_train) - sum(y_train)) / sum(y_train)\n",
        "\n",
        "model_simple = XGBClassifier(\n",
        "    use_label_encoder=False,\n",
        "    eval_metric='logloss',\n",
        "    random_state=42,\n",
        "    scale_pos_weight=scale_pos_weight\n",
        ")\n",
        "\n",
        "# Validación cruzada con 5 particiones\n",
        "scores = cross_val_score(model_simple, X_train, y_train, cv=5, scoring='f1')\n",
        "print(f\"F1 promedio (cross-validation): {scores.mean():.4f}\")"
      ],
      "metadata": {
        "colab": {
          "base_uri": "https://localhost:8080/"
        },
        "id": "JPd-9GGg8vx3",
        "outputId": "fbde2dee-188d-4eb1-a5e5-82d080a29c92"
      },
      "execution_count": 42,
      "outputs": [
        {
          "output_type": "stream",
          "name": "stderr",
          "text": [
            "/usr/local/lib/python3.11/dist-packages/xgboost/core.py:158: UserWarning: [15:43:08] WARNING: /workspace/src/learner.cc:740: \n",
            "Parameters: { \"use_label_encoder\" } are not used.\n",
            "\n",
            "  warnings.warn(smsg, UserWarning)\n",
            "/usr/local/lib/python3.11/dist-packages/xgboost/core.py:158: UserWarning: [15:43:09] WARNING: /workspace/src/learner.cc:740: \n",
            "Parameters: { \"use_label_encoder\" } are not used.\n",
            "\n",
            "  warnings.warn(smsg, UserWarning)\n",
            "/usr/local/lib/python3.11/dist-packages/xgboost/core.py:158: UserWarning: [15:43:10] WARNING: /workspace/src/learner.cc:740: \n",
            "Parameters: { \"use_label_encoder\" } are not used.\n",
            "\n",
            "  warnings.warn(smsg, UserWarning)\n",
            "/usr/local/lib/python3.11/dist-packages/xgboost/core.py:158: UserWarning: [15:43:11] WARNING: /workspace/src/learner.cc:740: \n",
            "Parameters: { \"use_label_encoder\" } are not used.\n",
            "\n",
            "  warnings.warn(smsg, UserWarning)\n",
            "/usr/local/lib/python3.11/dist-packages/xgboost/core.py:158: UserWarning: [15:43:11] WARNING: /workspace/src/learner.cc:740: \n",
            "Parameters: { \"use_label_encoder\" } are not used.\n",
            "\n",
            "  warnings.warn(smsg, UserWarning)\n"
          ]
        },
        {
          "output_type": "stream",
          "name": "stdout",
          "text": [
            "F1 promedio (cross-validation): 0.8590\n"
          ]
        }
      ]
    },
    {
      "cell_type": "markdown",
      "source": [
        "**scale_pos_weight** es un parámetro de XGBoost que le da más importancia a predecir correctamente los fraudes, porque si no, el modelo se queda en predecir solo “no fraude” y acierta el 99% de las veces, pero no sirve. La formula es el (largo de la lista - cantidad de fraudes) / cantidad de fraudes.\n",
        "\n",
        "**use_label_encoder=False**: evita un warning innecesario (XGBoost solía requerir codificación especial de etiquetas, ya no).\n",
        "\n",
        "**eval_metric='logloss'**: es la función que mide el error del modelo durante el entrenamiento. logloss es típica para clasificación.\n",
        "\n",
        "**random_state=42**: para que los resultados sean reproducibles.\n",
        "\n",
        "**scale_pos_weight**: lo que calculamos antes, le indica al modelo que los fraudes son raros y deben tener más peso."
      ],
      "metadata": {
        "id": "lyCGPUpg-J3T"
      }
    },
    {
      "cell_type": "markdown",
      "source": [
        "**cross_val_score**: Entrena el modelo 5 veces, cada vez usando una porción diferente como validación.\n",
        "\n",
        "La métrica usada es F1, que combina precisión y recall:\n",
        "\n",
        "Precisión: de todas las veces que dijo \"fraude\", ¿cuántas acertó?\n",
        "\n",
        "Recall: de todos los fraudes reales, ¿cuántos encontró?\n",
        "\n",
        "La F1 es muy útil cuando las clases están desbalanceadas, como acá"
      ],
      "metadata": {
        "id": "LUwuhY6B-rfe"
      }
    },
    {
      "cell_type": "markdown",
      "source": [
        "**Conclusion**: El modelo entrenado con las 7 variables seleccionadas manualmente (V11, V4, V2, V17, V14, Amount, Time) logró un F1-score promedio de 0.8590 en validación cruzada con 5 particiones. Es decir, funciona.\n",
        "\n",
        "Esto indica que el modelo tiene un muy buen equilibrio entre precisión y recall. Es decir:\n",
        "\n",
        "*   Precisión: Representa el % de las veces que el modelo acierta cuando dice una clase.\n",
        "\n",
        "*   Recall: Representa el % de los positivos reales que el modelo detectó.\n",
        "\n"
      ],
      "metadata": {
        "id": "Qkt0f-Nm_iH4"
      }
    },
    {
      "cell_type": "markdown",
      "source": [
        "**Entrenamiento y evaluación en test set**"
      ],
      "metadata": {
        "id": "IgTrtYQwB4dd"
      }
    },
    {
      "cell_type": "code",
      "source": [
        "from sklearn.metrics import classification_report, confusion_matrix, roc_auc_score\n",
        "# Entrenamos sobre todo el conjunto de entrenamiento\n",
        "model_simple.fit(X_train, y_train) #model_simple ya fue ajustado en el paso anterior, lo reutilizamos.\n",
        "\n",
        "# Predicción y evaluación\n",
        "y_pred = model_simple.predict(X_test)\n",
        "y_proba = model_simple.predict_proba(X_test)[:, 1]\n",
        "\n",
        "print(\"Reporte de clasificación:\")\n",
        "print(classification_report(y_test, y_pred))\n",
        "\n",
        "print(\"Matriz de confusión:\")\n",
        "print(confusion_matrix(y_test, y_pred))\n",
        "\n",
        "print(f\"AUC: {roc_auc_score(y_test, y_proba):.4f}\") #roc_auc_score: Es una función de sklearn.metrics que calcula el AUC de tu modelo. :.4f le da formato de 4 decimales (ejemplo: 0.9876). f\"AUC: {...}\" es una f-string que inserta el resultado directamente en el texto."
      ],
      "metadata": {
        "colab": {
          "base_uri": "https://localhost:8080/"
        },
        "id": "2M6RyBaDB52m",
        "outputId": "4f2b1e57-bae0-4402-82ac-6fed64c5c52d"
      },
      "execution_count": 43,
      "outputs": [
        {
          "output_type": "stream",
          "name": "stderr",
          "text": [
            "/usr/local/lib/python3.11/dist-packages/xgboost/core.py:158: UserWarning: [15:43:16] WARNING: /workspace/src/learner.cc:740: \n",
            "Parameters: { \"use_label_encoder\" } are not used.\n",
            "\n",
            "  warnings.warn(smsg, UserWarning)\n"
          ]
        },
        {
          "output_type": "stream",
          "name": "stdout",
          "text": [
            "Reporte de clasificación:\n",
            "              precision    recall  f1-score   support\n",
            "\n",
            "         0.0       1.00      1.00      1.00     21757\n",
            "         1.0       0.95      0.88      0.91        48\n",
            "\n",
            "    accuracy                           1.00     21805\n",
            "   macro avg       0.98      0.94      0.96     21805\n",
            "weighted avg       1.00      1.00      1.00     21805\n",
            "\n",
            "Matriz de confusión:\n",
            "[[21755     2]\n",
            " [    6    42]]\n",
            "AUC: 0.9801\n"
          ]
        }
      ]
    },
    {
      "cell_type": "markdown",
      "source": [
        "**Conclusión**:\n",
        "\n",
        "El modelo entrenado con las variables seleccionadas logró un rendimiento excelente al evaluarse sobre el conjunto de test, que no había sido utilizado durante el entrenamiento ni la validación cruzada.\n",
        "\n",
        "F1-score para la clase fraudulenta: 0.91\n",
        "\n",
        "Recall para fraude: 0.88 → el modelo detecta el 88% de las transacciones fraudulentas.\n",
        "\n",
        "Precision para fraude: 0.95 → el 95% de las transacciones marcadas como fraude fueron correctamente clasificadas.\n",
        "\n",
        "AUC: 0.98 → excelente capacidad para separar clases.\n",
        "\n",
        "La matriz de confusión mostró solo 6 fraudes no detectados y 2 falsos positivos, lo cual es un resultado muy sólido dada la gran desproporción entre clases. En conjunto, estos valores indican que el modelo es altamente eficaz para identificar fraudes en un escenario de datos desbalanceados."
      ],
      "metadata": {
        "id": "0DT1PUO_EBN2"
      }
    },
    {
      "cell_type": "code",
      "source": [
        "from sklearn.model_selection import RandomizedSearchCV\n",
        "\n",
        "params = {    #Definís el espacio de búsqueda de hiperparámetros, esto es lo que RandomizedSearchCV va a explorar al aza\n",
        "    'n_estimators': [100, 200, 300],   #cantidad de árboles (más árboles = más capacidad de aprendizaje).\n",
        "    'max_depth': [3, 4, 5, 6],   #max_depth: profundidad de cada árbol (más profundo = más complejo).\n",
        "    'learning_rate': [0.01, 0.05, 0.1],  #learning_rate: cuánto corrige cada nuevo árbol (menor = más preciso pero más lento).\n",
        "    'subsample': [0.7, 0.8, 1],  #subsample: porcentaje de filas usadas en cada árbol (introduce aleatoriedad y evita overfitting).\n",
        "    'colsample_bytree': [0.7, 0.8, 1],  #colsample_bytree: porcentaje de columnas usadas en cada árbol (más bajo = regularización).\n",
        "    'scale_pos_weight': [scale_pos_weight]  #scale_pos_weight: equilibrio para clases desbalanceadas. Usá el valor calculado antes.\n",
        "}\n",
        "\n",
        "rs = RandomizedSearchCV(\n",
        "    estimator=XGBClassifier(use_label_encoder=False, eval_metric='logloss', random_state=42), #Configuramos el estimador, evitamos warning, eval_metric='logloss' (métrica de entrenamiento) y random_state=42 para que los resultados sean reproducibles.\n",
        "    param_distributions=params, #combinaciones de hiperparámetros\n",
        "    n_iter=20, #Solo va a probar 20 combinaciones aleatorias distintas\n",
        "    scoring='f1', #El criterio para decidir qué combinación es la mejor es el F1-score\n",
        "    cv=3,  #Usa validación cruzada con 3 particiones (3-fold) por cada combinación de hiperparámetros.\n",
        "    verbose=1, #Hace que me muestre el proceso.\n",
        "    n_jobs=-1 #Acelera el procesamiento.\n",
        ")\n",
        "\n",
        "rs.fit(X_train, y_train)  #Ejecutamos la búsqueda.\n",
        "print(\"Mejores parámetros encontrados:\")\n",
        "print(rs.best_params_)  #best_params_ es un atributo propio del objeto RandomizedSearchCV que se crea automáticamente después de ejecutar .fit()"
      ],
      "metadata": {
        "colab": {
          "base_uri": "https://localhost:8080/"
        },
        "id": "yiunSqAJEuk-",
        "outputId": "c40bb42c-f0a3-497d-f396-ce7ec94c34c1"
      },
      "execution_count": 46,
      "outputs": [
        {
          "output_type": "stream",
          "name": "stdout",
          "text": [
            "Fitting 3 folds for each of 20 candidates, totalling 60 fits\n"
          ]
        },
        {
          "output_type": "stream",
          "name": "stderr",
          "text": [
            "/usr/local/lib/python3.11/dist-packages/xgboost/core.py:158: UserWarning: [15:49:57] WARNING: /workspace/src/learner.cc:740: \n",
            "Parameters: { \"use_label_encoder\" } are not used.\n",
            "\n",
            "  warnings.warn(smsg, UserWarning)\n"
          ]
        },
        {
          "output_type": "stream",
          "name": "stdout",
          "text": [
            "Mejores parámetros encontrados:\n",
            "{'subsample': 0.8, 'scale_pos_weight': 455.64397905759165, 'n_estimators': 200, 'max_depth': 5, 'learning_rate': 0.1, 'colsample_bytree': 1}\n"
          ]
        }
      ]
    },
    {
      "cell_type": "markdown",
      "source": [
        "**Mejores hiperparámetros encontrados**:\n",
        "\n",
        "A través de la búsqueda aleatoria (RandomizedSearchCV) con validación cruzada, se identificó la combinación óptima de hiperparámetros para el modelo XGBoost. Esta búsqueda se centró en maximizar el F1-score, una métrica especialmente relevante para problemas de clases desbalanceadas como la detección de fraude.\n",
        "\n",
        "Los mejores hiperparámetros encontrados fueron:\n",
        "\n",
        "n_estimators = 200: el modelo utiliza 200 árboles de decisión.\n",
        "\n",
        "max_depth = 5: los árboles tienen una profundidad moderada, lo que balancea capacidad y generalización.\n",
        "\n",
        "learning_rate = 0.1: se aplica una tasa de aprendizaje estándar que permite una convergencia eficiente.\n",
        "\n",
        "subsample = 0.8: en cada iteración, el modelo entrena con el 80% de los datos, lo que introduce aleatoriedad y ayuda a prevenir overfitting.\n",
        "\n",
        "colsample_bytree = 1: se utilizan todas las variables en cada árbol.\n",
        "\n",
        "scale_pos_weight = 455.64: se aplica un peso elevado a la clase minoritaria (fraude), ajustando el desbalance del dataset."
      ],
      "metadata": {
        "id": "4fvQ_tZxFT1d"
      }
    },
    {
      "cell_type": "code",
      "source": [
        "best_model = rs.best_estimator_   #.best_estimator_ es un atributo automático que guarda el modelo final ya ajustado con la mejor combinación de hiperparámetros (best_params_)\n",
        "\n",
        "y_pred_best = best_model.predict(X_train)  #Generás las predicciones de clase para el conjunto de entrenamiento (X_train).\n",
        "y_proba_best = best_model.predict_proba(X_train)[:, 1] #Calculás las probabilidades de que cada muestra sea clase 1 (fraude).\n",
        "\n",
        "print(\"Reporte final (modelo optimizado):\")\n",
        "print(classification_report(y_train, y_pred_best))\n",
        "print(f\"AUC: {roc_auc_score(y_train, y_proba_best):.4f}\")"
      ],
      "metadata": {
        "colab": {
          "base_uri": "https://localhost:8080/"
        },
        "id": "tkYyDRLrFUKP",
        "outputId": "728e0cf4-1347-4175-a514-e1370210811a"
      },
      "execution_count": 50,
      "outputs": [
        {
          "output_type": "stream",
          "name": "stdout",
          "text": [
            "Reporte final (modelo optimizado):\n",
            "              precision    recall  f1-score   support\n",
            "\n",
            "         0.0       1.00      1.00      1.00     87028\n",
            "         1.0       0.93      1.00      0.96       191\n",
            "\n",
            "    accuracy                           1.00     87219\n",
            "   macro avg       0.97      1.00      0.98     87219\n",
            "weighted avg       1.00      1.00      1.00     87219\n",
            "\n",
            "AUC: 1.0000\n"
          ]
        }
      ]
    },
    {
      "cell_type": "markdown",
      "source": [
        "**Conclusión del modelo optimizado**:\n",
        "\n",
        "El modelo final optimizado con búsqueda de hiperparámetros obtuvo un desempeño sobresaliente al ser evaluado sobre los datos de entrenamiento:\n",
        "\n",
        "Precision en clase 1 (fraude): 0.93\n",
        "→ El 93% de las transacciones identificadas como fraude efectivamente lo eran.\n",
        "\n",
        "Recall en clase 1: 1.00\n",
        "→ El modelo detectó el 100% de los fraudes reales, lo que es crítico en este tipo de aplicaciones.\n",
        "\n",
        "F1-score en clase 1: 0.96\n",
        "→ Muestra un excelente balance entre precisión y recall en la clase minoritaria.\n",
        "\n",
        "Accuracy total: 1.00\n",
        "→ Aunque el accuracy puede ser engañoso en conjuntos desbalanceados, en este caso es coherente con el resto de las métricas.\n",
        "\n",
        "AUC = 1.0000\n",
        "→ El modelo tiene una capacidad perfecta de discriminación entre transacciones fraudulentas y legítimas."
      ],
      "metadata": {
        "id": "_C5lOppgjell"
      }
    },
    {
      "cell_type": "markdown",
      "source": [
        "**Evaluación en el set de test (X_test, y_test)**"
      ],
      "metadata": {
        "id": "qd6ZLVWujuvP"
      }
    },
    {
      "cell_type": "code",
      "source": [
        "y_pred_test = best_model.predict(X_test)\n",
        "y_proba_test = best_model.predict_proba(X_test)[:, 1]\n",
        "\n",
        "print(classification_report(y_test, y_pred_test))\n",
        "print(f\"AUC: {roc_auc_score(y_test, y_proba_test):.4f}\")"
      ],
      "metadata": {
        "colab": {
          "base_uri": "https://localhost:8080/"
        },
        "id": "s9FI1n_mjvR0",
        "outputId": "4d466b9c-c51f-458f-9926-9801bd2ef12d"
      },
      "execution_count": 51,
      "outputs": [
        {
          "output_type": "stream",
          "name": "stdout",
          "text": [
            "              precision    recall  f1-score   support\n",
            "\n",
            "         0.0       1.00      1.00      1.00     21757\n",
            "         1.0       0.89      0.88      0.88        48\n",
            "\n",
            "    accuracy                           1.00     21805\n",
            "   macro avg       0.95      0.94      0.94     21805\n",
            "weighted avg       1.00      1.00      1.00     21805\n",
            "\n",
            "AUC: 0.9771\n"
          ]
        }
      ]
    },
    {
      "cell_type": "markdown",
      "source": [
        "**Evaluación final del modelo en datos de test**:\n",
        "\n",
        "El modelo optimizado fue evaluado sobre el conjunto de test, el cual no fue utilizado durante el entrenamiento ni la búsqueda de hiperparámetros. Los resultados obtenidos confirman que el modelo generaliza muy bien:\n",
        "\n",
        "Precision en clase 1 (fraude): 0.89\n",
        "→ El 89% de las transacciones que el modelo predijo como fraude realmente lo eran.\n",
        "\n",
        "Recall en clase 1 (fraude): 0.88\n",
        "→ El modelo logró detectar el 88% de los fraudes reales del conjunto de test.\n",
        "\n",
        "F1-score en clase 1: 0.88\n",
        "→ El equilibrio entre precision y recall se mantiene alto.\n",
        "\n",
        "Accuracy total: 1.00\n",
        "→ La precisión global del modelo es muy alta.\n",
        "\n",
        "AUC = 0.9771\n",
        "→ El modelo tiene una excelente capacidad de discriminación, incluso con datos que nunca vio antes."
      ],
      "metadata": {
        "id": "pcvWGkbTkGls"
      }
    }
  ]
}
